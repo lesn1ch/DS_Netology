{
  "nbformat": 4,
  "nbformat_minor": 0,
  "metadata": {
    "colab": {
      "provenance": []
    },
    "kernelspec": {
      "name": "python3",
      "display_name": "Python 3"
    },
    "language_info": {
      "name": "python"
    }
  },
  "cells": [
    {
      "cell_type": "markdown",
      "source": [
        "# **Задание 1**\n",
        "Печатные газеты использовали свой формат дат для каждого выпуска. Для каждой газеты из списка напишите формат указанной даты для перевода в объект datetime:\n",
        "```\n",
        "[The Moscow Times — Wednesday, October 2, 2002\n",
        "The Guardian — Friday, 11.10.13\n",
        "Daily News — Thursday, 18 August 1977]\n",
        "\n",
        "```\n",
        "\n"
      ],
      "metadata": {
        "id": "2QdQlNAqyNH5"
      }
    },
    {
      "cell_type": "code",
      "execution_count": null,
      "metadata": {
        "id": "ZXScnQr0xcUp"
      },
      "outputs": [],
      "source": [
        "from datetime import datetime as dt\n",
        "import re"
      ]
    },
    {
      "cell_type": "code",
      "source": [
        "newspapers = ['The Moscow Times — Wednesday, October 2, 2002',\n",
        "'The Guardian — Friday, 11.10.13', # будем считать, что 11 октября\n",
        "'Daily News — Thursday, 18 August 1977']\n",
        "\n",
        "# Регулярки написал просто так, ради практики\n",
        "\n",
        "pattern_1 = '([a-zA-z\\s]+)—\\s([a-zA-z]{6,9},\\s[a-zA-z]+\\s\\d{1,2},\\s\\d{4})'\n",
        "dt_pattern_1 = '%A, %B %d, %Y'\n",
        "dt_1 = re.search(pattern_1, newspapers[0]).group(2)\n",
        "dt_1 = dt.strptime(dt_1, dt_pattern_1)\n",
        "\n",
        "pattern_2 = '([a-zA-z\\s]+)—\\s([a-zA-z]{6,9},\\s\\d{2}\\.\\d{2}\\.\\d{2})'\n",
        "dt_pattern_2 = '%A, %d.%m.%y'\n",
        "dt_2 = re.search(pattern_2, newspapers[1]).group(2)\n",
        "dt_2 = dt.strptime(dt_2, dt_pattern_2)\n",
        "\n",
        "pattern_3 = '([a-zA-z\\s]+)—\\s([a-zA-z]{6,9},\\s\\d{1,2}\\s[a-zA-z]{3,9}\\s\\d{4})'\n",
        "dt_pattern_3 = '%A, %d %B %Y'\n",
        "dt_3 = re.search(pattern_3, newspapers[2]).group(2)\n",
        "dt_3 = dt.strptime(dt_3, dt_pattern_3)\n",
        "\n",
        "print(dt_1)\n",
        "print(dt_2)\n",
        "print(dt_3)"
      ],
      "metadata": {
        "colab": {
          "base_uri": "https://localhost:8080/"
        },
        "id": "GEU7k90XyitF",
        "outputId": "56060cd3-a861-4b57-b5b6-4f76a353f4e8"
      },
      "execution_count": null,
      "outputs": [
        {
          "output_type": "execute_result",
          "data": {
            "text/plain": [
              "datetime.datetime(2002, 10, 2, 0, 0)"
            ]
          },
          "metadata": {},
          "execution_count": 11
        }
      ]
    },
    {
      "cell_type": "markdown",
      "source": [
        "# **Задание 2**\n",
        "Дан поток дат в формате YYYY-MM-DD, в которых встречаются некорректные значения:\n",
        "`stream = [‘2018-04-02’, ‘2018-02-29’, ‘2018-19-02’]`\n",
        "\n",
        "Напишите функцию, которая проверяет эти даты на корректность. То есть для каждой даты возвращает True — дата корректна или False — некорректная."
      ],
      "metadata": {
        "id": "ZT2hlLNEy9Bx"
      }
    },
    {
      "cell_type": "code",
      "source": [
        "stream = ['2018-04-02', '2018-02-29','2018-19-02']\n",
        "\n",
        "def is_dt_correct(date):\n",
        "  dt_pattern = '%Y-%m-%d'\n",
        "  try:\n",
        "    dt.strptime(date, dt_pattern)\n",
        "    return True\n",
        "  except ValueError:\n",
        "    return False\n",
        "\n",
        "\n",
        "for date in stream:\n",
        "  print(is_dt_correct(date))\n"
      ],
      "metadata": {
        "colab": {
          "base_uri": "https://localhost:8080/"
        },
        "id": "tCtBIkGLkXwL",
        "outputId": "d0509c26-7d35-4a29-d67b-1446f1a66ccc"
      },
      "execution_count": null,
      "outputs": [
        {
          "output_type": "stream",
          "name": "stdout",
          "text": [
            "True\n",
            "False\n",
            "False\n"
          ]
        }
      ]
    },
    {
      "cell_type": "markdown",
      "source": [
        "# **Задание 3**\n",
        "Напишите функцию date_range, которая возвращает список дат за период от `start_date` до `end_date`. Даты должны вводиться в формате `YYYY-MM-DD`. В случае неверного формата или при `start_date` > `end_date` должен возвращаться пустой список."
      ],
      "metadata": {
        "id": "10Up2J5dy_Ti"
      }
    },
    {
      "cell_type": "code",
      "source": [
        "from datetime import timedelta\n",
        "\n",
        "def date_range(date_start, date_end):\n",
        "  if date_start > date_end:\n",
        "    return []\n",
        "  else:\n",
        "    if is_dt_correct(date_start) and is_dt_correct(date_end):\n",
        "      date_start = dt.strptime(date_start, '%Y-%m-%d')\n",
        "      date_end = dt.strptime(date_end, '%Y-%m-%d')\n",
        "      range_ = [date_start + timedelta(days=1*i) for i in range((date_end - date_start).days)] # как и большинство подобных функций последний элемент в списрк не включен\n",
        "      return range_\n",
        "    else:\n",
        "      return []\n",
        "\n",
        "date_range('2024-05-01', '2024-05-10')"
      ],
      "metadata": {
        "colab": {
          "base_uri": "https://localhost:8080/"
        },
        "id": "noUhEKMIuoQ_",
        "outputId": "2b611895-494b-43c9-b88b-bc9c36257ecf"
      },
      "execution_count": null,
      "outputs": [
        {
          "output_type": "execute_result",
          "data": {
            "text/plain": [
              "[datetime.datetime(2024, 5, 1, 0, 0),\n",
              " datetime.datetime(2024, 5, 2, 0, 0),\n",
              " datetime.datetime(2024, 5, 3, 0, 0),\n",
              " datetime.datetime(2024, 5, 4, 0, 0),\n",
              " datetime.datetime(2024, 5, 5, 0, 0),\n",
              " datetime.datetime(2024, 5, 6, 0, 0),\n",
              " datetime.datetime(2024, 5, 7, 0, 0),\n",
              " datetime.datetime(2024, 5, 8, 0, 0),\n",
              " datetime.datetime(2024, 5, 9, 0, 0)]"
            ]
          },
          "metadata": {},
          "execution_count": 14
        }
      ]
    },
    {
      "cell_type": "markdown",
      "source": [
        "# **Задание 4 (необязательное)**\n",
        "Ваш коллега прислал код функции:\n",
        "\n",
        "```\n",
        "DEFAULT_USER_COUNT = 3\n",
        "\n",
        "def delete_and_return_last_user(region, default_list=[‘A100’, ‘A101’, ‘A102’]):\n",
        "\"\"\"\n",
        "Удаляет из списка default_list последнего пользователя\n",
        "и возвращает ID нового последнего пользователя.\n",
        "\"\"\"\n",
        "  element_to_delete = default_list[-1]\n",
        "  default_list.remove(element_to_delete)\n",
        "  return default_list[DEFAULT_USER_COUNT-2]\n",
        "```\n",
        "При однократном вызове этой функции всё работает корректно:\n",
        "\n",
        "```\n",
        "delete_and_return_last_user(1)\n",
        ">>>‘A101’\n",
        "```\n",
        "\n",
        "Однако при повторном вызове получается ошибка `IndexError: list index out of range`.\n",
        "\n",
        "Задание:\n",
        "\n",
        "* Что значит ошибка `list index out of range`?\n",
        "* Почему при первом запуске функция работает корректно, а при втором — нет?"
      ],
      "metadata": {
        "id": "WUfBnVe-zS-O"
      }
    },
    {
      "cell_type": "code",
      "source": [
        "DEFAULT_USER_COUNT = 3\n",
        "\n",
        "def delete_and_return_last_user(region, default_list=['A100', 'A101', 'A102']):\n",
        "  \"\"\"\n",
        "  Удаляет из списка default_list последнего пользователя\n",
        "  и возвращает ID нового последнего пользователя.\n",
        "  \"\"\"\n",
        "  print(default_list)\n",
        "  element_to_delete = default_list[-1]\n",
        "  default_list.remove(element_to_delete)\n",
        "  return default_list[DEFAULT_USER_COUNT-2]\n"
      ],
      "metadata": {
        "id": "aXv4uxoL4vmX"
      },
      "execution_count": null,
      "outputs": []
    },
    {
      "cell_type": "code",
      "source": [
        "delete_and_return_last_user(1)\n",
        "delete_and_return_last_user(1)"
      ],
      "metadata": {
        "colab": {
          "base_uri": "https://localhost:8080/",
          "height": 295
        },
        "id": "K6GpnSWR7MQH",
        "outputId": "ace5d111-a0f0-4613-cd50-4ac45779127f"
      },
      "execution_count": null,
      "outputs": [
        {
          "output_type": "stream",
          "name": "stdout",
          "text": [
            "['A100', 'A101', 'A102']\n",
            "['A100', 'A101']\n"
          ]
        },
        {
          "output_type": "error",
          "ename": "IndexError",
          "evalue": "list index out of range",
          "traceback": [
            "\u001b[0;31m---------------------------------------------------------------------------\u001b[0m",
            "\u001b[0;31mIndexError\u001b[0m                                Traceback (most recent call last)",
            "\u001b[0;32m<ipython-input-22-6e49c7209e96>\u001b[0m in \u001b[0;36m<cell line: 2>\u001b[0;34m()\u001b[0m\n\u001b[1;32m      1\u001b[0m \u001b[0mdelete_and_return_last_user\u001b[0m\u001b[0;34m(\u001b[0m\u001b[0;36m1\u001b[0m\u001b[0;34m)\u001b[0m\u001b[0;34m\u001b[0m\u001b[0;34m\u001b[0m\u001b[0m\n\u001b[0;32m----> 2\u001b[0;31m \u001b[0mdelete_and_return_last_user\u001b[0m\u001b[0;34m(\u001b[0m\u001b[0;36m1\u001b[0m\u001b[0;34m)\u001b[0m\u001b[0;34m\u001b[0m\u001b[0;34m\u001b[0m\u001b[0m\n\u001b[0m",
            "\u001b[0;32m<ipython-input-21-99d210a50c5f>\u001b[0m in \u001b[0;36mdelete_and_return_last_user\u001b[0;34m(region, default_list)\u001b[0m\n\u001b[1;32m      9\u001b[0m   \u001b[0melement_to_delete\u001b[0m \u001b[0;34m=\u001b[0m \u001b[0mdefault_list\u001b[0m\u001b[0;34m[\u001b[0m\u001b[0;34m-\u001b[0m\u001b[0;36m1\u001b[0m\u001b[0;34m]\u001b[0m\u001b[0;34m\u001b[0m\u001b[0;34m\u001b[0m\u001b[0m\n\u001b[1;32m     10\u001b[0m   \u001b[0mdefault_list\u001b[0m\u001b[0;34m.\u001b[0m\u001b[0mremove\u001b[0m\u001b[0;34m(\u001b[0m\u001b[0melement_to_delete\u001b[0m\u001b[0;34m)\u001b[0m\u001b[0;34m\u001b[0m\u001b[0;34m\u001b[0m\u001b[0m\n\u001b[0;32m---> 11\u001b[0;31m   \u001b[0;32mreturn\u001b[0m \u001b[0mdefault_list\u001b[0m\u001b[0;34m[\u001b[0m\u001b[0mDEFAULT_USER_COUNT\u001b[0m\u001b[0;34m-\u001b[0m\u001b[0;36m2\u001b[0m\u001b[0;34m]\u001b[0m\u001b[0;34m\u001b[0m\u001b[0;34m\u001b[0m\u001b[0m\n\u001b[0m",
            "\u001b[0;31mIndexError\u001b[0m: list index out of range"
          ]
        }
      ]
    },
    {
      "cell_type": "markdown",
      "source": [
        "1. Ошибка `list index out of range` означает выход за переделы массива или обращение к индексу за пределами массива\n",
        "\n",
        "2. Ошибка возникает, потому что объект default_list создается только один раз, дальше он изменяется. Поэтому после первого вызова в нем остается всего 2 элемента, после в телеф функции во время второго вызова удаляется еще один элемент(остается 2) и функция пытается вернуть элемент с индексом один (по факту второй элемент списка), которого нет\n",
        "\n"
      ],
      "metadata": {
        "id": "nWksNLL28s7s"
      }
    }
  ]
}