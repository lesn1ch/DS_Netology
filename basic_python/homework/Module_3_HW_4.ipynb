{
  "nbformat": 4,
  "nbformat_minor": 0,
  "metadata": {
    "colab": {
      "provenance": []
    },
    "kernelspec": {
      "name": "python3",
      "display_name": "Python 3"
    },
    "language_info": {
      "name": "python"
    }
  },
  "cells": [
    {
      "cell_type": "markdown",
      "source": [
        "# Реализация"
      ],
      "metadata": {
        "id": "ujgMexnPEx28"
      }
    },
    {
      "cell_type": "code",
      "execution_count": null,
      "metadata": {
        "id": "nVivOtxyRZdm"
      },
      "outputs": [],
      "source": [
        "documents = [\n",
        "    {'type': 'passport', 'number': '2207 876234', 'name': 'Василий Гупкин'},\n",
        "    {'type': 'invoice', 'number': '11-2', 'name': 'Геннадий Покемонов'},\n",
        "    {'type': 'insurance', 'number': '10006', 'name': 'Аристарх Павлов'}\n",
        "]\n",
        "\n",
        "directories = {\n",
        "    '1': ['2207 876234', '11-2'],\n",
        "    '2': ['10006'],\n",
        "    '3': []\n",
        "}"
      ]
    },
    {
      "cell_type": "code",
      "source": [
        "def main():\n",
        "  command_dict = {\n",
        "    'p': lambda: who_is_owner(), #вывести владельца документа\n",
        "    's': lambda: doc_location(), #узнать рапсоложение документа\n",
        "    'l': lambda: full_data(), #вывести полную информацию о документах в базе\n",
        "    'ads': lambda: add_shelf(), #добавить полку\n",
        "    'ds': lambda: del_shelf(),  #удалить полку\n",
        "    'ad': lambda: add_doc(),  #добавить документ\n",
        "    'd': lambda: del_doc(), #удаляет документ\n",
        "    'm': lambda: move_doc() #переместить документ\n",
        "  }\n",
        "  while (cmd := input('Enter the function: ')) != 'q':\n",
        "    print(cmd)\n",
        "    if cmd not in command_dict.keys():\n",
        "      print('Такая команда отсутствует. Попробуйе снова!')\n",
        "    else:\n",
        "      command_dict[cmd]()"
      ],
      "metadata": {
        "id": "tfyCQIE2RoaQ"
      },
      "execution_count": null,
      "outputs": []
    },
    {
      "cell_type": "code",
      "source": [
        "def who_is_owner():\n",
        "  \"\"\"\n",
        "  Выводит в консоль владельца документа. Соответствует команде \"p\"\n",
        "  \"\"\"\n",
        "  doc_num = input('Введите номер документа:')\n",
        "  not_found = 'Документ не найден в базе'\n",
        "  owner_list = list(filter(lambda doc: doc_num == doc['number'], documents))\n",
        "  if owner_list:\n",
        "    print(f'Владелец документа: {owner_list[0][\"name\"]}')\n",
        "  else:\n",
        "    print(not_found)"
      ],
      "metadata": {
        "id": "HA4CV0LTTFGA"
      },
      "execution_count": null,
      "outputs": []
    },
    {
      "cell_type": "code",
      "source": [
        "def doc_location(doc_num=None, from_menu=True):\n",
        "  \"\"\"\n",
        "  Выводит в консоль полку, на который хранится указанный документ. Соответствует команде \"s\"\n",
        "  \"\"\"\n",
        "  if doc_num is None:\n",
        "    doc_num = input('Введите номер документа:')\n",
        "  not_found = 'Документ не найден в базе'\n",
        "  shelf = list(filter(lambda dir: doc_num in directories[dir], directories))\n",
        "  if shelf:\n",
        "    if from_menu:\n",
        "      print(f'Документ хранится на полке № {shelf[0]}')\n",
        "    else:\n",
        "      return shelf[0]\n",
        "  else:\n",
        "    print(not_found)"
      ],
      "metadata": {
        "id": "fPlJCLWsVjVi"
      },
      "execution_count": null,
      "outputs": []
    },
    {
      "cell_type": "code",
      "source": [
        "def full_data():\n",
        "  \"\"\"\n",
        "  Выводит консоль все сведени о документах в базе. Соответствует команде \"l\"\n",
        "  \"\"\"\n",
        "  for doc in documents:\n",
        "    num = doc['number']\n",
        "    doc_type = doc['type']\n",
        "    owner = doc['name']\n",
        "    dir = doc_location(num, False)\n",
        "    print(f'№: {num}, тип: {doc_type}, владелец:{owner}, полка хранения: {dir}')"
      ],
      "metadata": {
        "id": "FbdFAamXWv4g"
      },
      "execution_count": null,
      "outputs": []
    },
    {
      "cell_type": "code",
      "source": [
        "def add_shelf():\n",
        "  \"\"\"\n",
        "  Добавляет полку. Соответствует команде \"ads\"\n",
        "  \"\"\"\n",
        "  new_shelf = input('Введите номер полки:')\n",
        "  if new_shelf in directories:\n",
        "    print(f'Такая полка уже существует. Текущий перечень полок: {\", \".join(directories.keys())}')\n",
        "  else:\n",
        "    directories[new_shelf] = []\n",
        "    print(f'Полка добавлена. Текущий перечень полок: {\", \".join(directories.keys())}')"
      ],
      "metadata": {
        "id": "kfKmsb-AJzlq"
      },
      "execution_count": null,
      "outputs": []
    },
    {
      "cell_type": "code",
      "source": [
        "def del_shelf():\n",
        "  \"\"\"\n",
        "  Удаляет полку, если она пустая. Соответствует команде \"ds\"\n",
        "  \"\"\"\n",
        "  num_shelf = input('Введите номер полки:')\n",
        "  if num_shelf in directories:\n",
        "    if directories[num_shelf] != []:\n",
        "      print(f'На полке есть документа, удалите их перед удалением полки. Текущий перечень полок: {\", \".join(directories.keys())}')\n",
        "    else:\n",
        "      del(directories[num_shelf])\n",
        "      print(f'Полка удалена. Текущий перечень полок: {\", \".join(directories.keys())}')\n",
        "  else:\n",
        "    print(f'Такой полки не существует.Текущий перечень полок: {\", \".join(directories.keys())}')"
      ],
      "metadata": {
        "id": "Hwz2HX9gOifE"
      },
      "execution_count": null,
      "outputs": []
    },
    {
      "cell_type": "code",
      "source": [
        "def add_doc():\n",
        "  \"\"\"\n",
        "  Добавляет документ в базу. Соответствует команде \"ad\"\n",
        "  \"\"\"\n",
        "  doc_num = input('Введите номер документа:')\n",
        "  doc_type = input('Введите тип документа:')\n",
        "  doc_owner = input('Введите владельца документа:')\n",
        "  shelf_num = input('Введите полку для хранения:')\n",
        "  if doc_num in list(map(lambda x: x['number'], documents)):\n",
        "    print('Такой документ уже существует.', 'Текущий список документов в базе:', sep='\\n')\n",
        "    full_data()\n",
        "  elif shelf_num not in directories:\n",
        "    print('Такой полки не существует. Добавьте полку командой as. \\nТекущий список документов:')\n",
        "    full_data()\n",
        "  else:\n",
        "    documents.append({\n",
        "        'type': doc_type,\n",
        "        'number': doc_num,\n",
        "        'name': doc_owner\n",
        "    })\n",
        "    directories[shelf_num].append(doc_num)\n",
        "    print('Документ добавлен. \\nтТекущий список документов:')\n",
        "    full_data()\n"
      ],
      "metadata": {
        "id": "2NkK1tg8SYgK"
      },
      "execution_count": null,
      "outputs": []
    },
    {
      "cell_type": "code",
      "source": [
        "def del_doc():\n",
        "  \"\"\"\n",
        "  Удаляет документ из базы. Соответствует команде \"d\"\n",
        "  \"\"\"\n",
        "  doc_num = input('Введите номер документа:')\n",
        "  if doc_num not in list(map(lambda x: x['number'], documents)):\n",
        "    print('Такого документа не существует.', 'Текущий список документов в базе:', sep='\\n')\n",
        "    full_data()\n",
        "  else:\n",
        "    documents.remove(list(filter(lambda doc: doc['number'] == doc_num, documents))[0])\n",
        "    shelf_num = doc_location(doc_num)\n",
        "    directories[shelf_num].remove(doc_num)\n",
        "    print('Документ удален. \\nТекущий список документов:')\n",
        "    full_data()"
      ],
      "metadata": {
        "id": "WVlokcoXUzYR"
      },
      "execution_count": null,
      "outputs": []
    },
    {
      "cell_type": "code",
      "source": [
        "def move_doc():\n",
        "  \"\"\"\n",
        "  Перемещает документ с одной полки на другую. Соответствует команде \"m\"\n",
        "  \"\"\"\n",
        "  doc_num = input('Введите номер документа:')\n",
        "  new_shelf = input('Введите номер полки:')\n",
        "  if doc_num not in list(map(lambda x: x['number'], documents)):\n",
        "      print('Такого документа не существует.', 'Текущий список документов в базе:', sep='\\n')\n",
        "      full_data()\n",
        "      return\n",
        "  elif new_shelf not in directories:\n",
        "    print('Такой полки не существует. Добавьте полку командой as. \\nТекущий список документов:')\n",
        "    full_data()\n",
        "  else:\n",
        "    old_shelf = list(filter(lambda dir: doc_num in directories[dir], directories))[0]\n",
        "    directories[old_shelf].remove(doc_num)\n",
        "    directories[new_shelf].append(doc_num)\n",
        "    print('Документ перемещен.')\n",
        "    full_data()"
      ],
      "metadata": {
        "id": "9mZi_fZrfZSm"
      },
      "execution_count": null,
      "outputs": []
    },
    {
      "cell_type": "markdown",
      "source": [
        "# Запуск приложения"
      ],
      "metadata": {
        "id": "4fdgk3QwFOnx"
      }
    },
    {
      "cell_type": "code",
      "source": [
        "main()"
      ],
      "metadata": {
        "colab": {
          "base_uri": "https://localhost:8080/"
        },
        "id": "lq042O6lFSQo",
        "outputId": "744700d4-0d03-434e-ab20-944bc6945ed7"
      },
      "execution_count": null,
      "outputs": [
        {
          "name": "stdout",
          "output_type": "stream",
          "text": [
            "Enter the function: д\n",
            "д\n",
            "Такая команда отсутствует. Попробуйе снова!\n",
            "Enter the function: l\n",
            "l\n",
            "№: 2207 876234, тип: , владелец:Василий Гупкин, полка хранения: 1\n",
            "№: 11-2, тип: , владелец:Геннадий Покемонов, полка хранения: 1\n",
            "№: 10006, тип: , владелец:Аристарх Павлов, полка хранения: 2\n",
            "Enter the function: ds\n",
            "ds\n",
            "Введите номер полки:3\n",
            "Полка удалена. Текущий перечень полок: 1, 2\n",
            "Enter the function: ads\n",
            "ads\n",
            "Введите номер полки:3\n",
            "Полка добавлена. Текущий перечень полок: 1, 2, 3\n",
            "Enter the function: ad\n",
            "ad\n",
            "Введите номер документа:123\n",
            "Введите тип документа:visa\n",
            "Введите владельца документа:Saimon Bell\n",
            "Введите полку для хранения:3\n",
            "Документ добавлен. \n",
            "тТекущий список документов:\n",
            "№: 2207 876234, тип: , владелец:Василий Гупкин, полка хранения: 1\n",
            "№: 11-2, тип: , владелец:Геннадий Покемонов, полка хранения: 1\n",
            "№: 10006, тип: , владелец:Аристарх Павлов, полка хранения: 2\n",
            "№: 123, тип: , владелец:Saimon Bell, полка хранения: 3\n",
            "Enter the function: ds\n",
            "ds\n",
            "Введите номер полки:3\n",
            "На полке есть документа, удалите их перед удалением полки. Текущий перечень полок: 1, 2, 3\n",
            "Enter the function: m\n",
            "m\n",
            "Введите номер документа:123\n",
            "Введите номер полки:2\n",
            "Документ перемещен.\n",
            "№: 2207 876234, тип: , владелец:Василий Гупкин, полка хранения: 1\n",
            "№: 11-2, тип: , владелец:Геннадий Покемонов, полка хранения: 1\n",
            "№: 10006, тип: , владелец:Аристарх Павлов, полка хранения: 2\n",
            "№: 123, тип: , владелец:Saimon Bell, полка хранения: 2\n",
            "Enter the function: ds\n",
            "ds\n",
            "Введите номер полки:3\n",
            "Полка удалена. Текущий перечень полок: 1, 2\n",
            "Enter the function: q\n"
          ]
        }
      ]
    }
  ]
}